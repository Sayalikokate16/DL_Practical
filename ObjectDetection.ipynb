{
 "cells": [
  {
   "cell_type": "code",
   "execution_count": 18,
   "id": "d838218c-de8a-4623-90e5-63a455648145",
   "metadata": {},
   "outputs": [],
   "source": [
    "import numpy as np\n",
    "import pandas as pd\n",
    "import tensorflow as tf\n",
    "import matplotlib.pyplot as plt"
   ]
  },
  {
   "cell_type": "code",
   "execution_count": 19,
   "id": "40ee608a-6d75-4214-894c-cc00bc9c88d7",
   "metadata": {},
   "outputs": [],
   "source": [
    "img_gen=tf.keras.preprocessing.image.ImageDataGenerator(rescale=1/255.0,validation_split=0.3)"
   ]
  },
  {
   "cell_type": "code",
   "execution_count": 20,
   "id": "a97cf0ba-493c-49d3-b98c-52bb72c8f71a",
   "metadata": {},
   "outputs": [
    {
     "name": "stdout",
     "output_type": "stream",
     "text": [
      "Found 6444 images belonging to 102 classes.\n",
      "Found 2700 images belonging to 102 classes.\n"
     ]
    }
   ],
   "source": [
    "base='Object Detection(Ass6)/caltech-101-img'\n",
    "img_train=img_gen.flow_from_directory(\n",
    "        directory=base,\n",
    "        target_size=(64,64),\n",
    "        shuffle=True,\n",
    "        batch_size=32,\n",
    "        subset=\"training\",\n",
    "        class_mode=\"categorical\"\n",
    "    )\n",
    "img_test=img_gen.flow_from_directory(\n",
    "        directory=base,\n",
    "        target_size=(64,64),\n",
    "        shuffle=True,\n",
    "        batch_size=32,\n",
    "        subset=\"validation\",\n",
    "        class_mode=\"categorical\"\n",
    "    )"
   ]
  },
  {
   "cell_type": "code",
   "execution_count": 21,
   "id": "b015b97c-efb5-4bcb-8ed7-869b90ccb480",
   "metadata": {},
   "outputs": [],
   "source": [
    "base_model=tf.keras.applications.VGG16(weights='Object Detection(Ass6)/vgg16_weights_tf_dim_ordering_tf_kernels_notop.h5',input_shape=(64,64,3),include_top=False)"
   ]
  },
  {
   "cell_type": "code",
   "execution_count": 22,
   "id": "d0c0ff58-faaf-4725-80cb-bd3b0becfc6b",
   "metadata": {},
   "outputs": [],
   "source": [
    "base_model.trainable=False\n",
    "dev_model=tf.keras.models.Sequential(\n",
    "    [base_model,\n",
    "     tf.keras.layers.MaxPooling2D(),\n",
    "    tf.keras.layers.Flatten(),\n",
    "    tf.keras.layers.Dense(102,activation=\"softmax\")]\n",
    ")\n",
    "dev_model.compile(optimizer=tf.keras.optimizers.Adam(0.1),loss=\"categorical_crossentropy\",metrics=[\"accuracy\"])"
   ]
  },
  {
   "cell_type": "code",
   "execution_count": 23,
   "id": "7cba0a8d-3fa1-4c57-8480-c092dbadb9c7",
   "metadata": {},
   "outputs": [
    {
     "name": "stdout",
     "output_type": "stream",
     "text": [
      "Model: \"sequential_2\"\n",
      "_________________________________________________________________\n",
      " Layer (type)                Output Shape              Param #   \n",
      "=================================================================\n",
      " vgg16 (Functional)          (None, 2, 2, 512)         14714688  \n",
      "                                                                 \n",
      " max_pooling2d_2 (MaxPoolin  (None, 1, 1, 512)         0         \n",
      " g2D)                                                            \n",
      "                                                                 \n",
      " flatten_2 (Flatten)         (None, 512)               0         \n",
      "                                                                 \n",
      " dense_2 (Dense)             (None, 102)               52326     \n",
      "                                                                 \n",
      "=================================================================\n",
      "Total params: 14767014 (56.33 MB)\n",
      "Trainable params: 52326 (204.40 KB)\n",
      "Non-trainable params: 14714688 (56.13 MB)\n",
      "_________________________________________________________________\n"
     ]
    }
   ],
   "source": [
    "dev_model.summary()"
   ]
  },
  {
   "cell_type": "code",
   "execution_count": null,
   "id": "c8fbb979-7efa-476e-833e-251ff19e57cf",
   "metadata": {},
   "outputs": [
    {
     "name": "stdout",
     "output_type": "stream",
     "text": [
      "Epoch 1/2\n",
      "100/100 [==============================] - 148s 1s/step - loss: 12.2743 - accuracy: 0.3703 - val_loss: 7.9094 - val_accuracy: 0.4756\n",
      "Epoch 2/2\n",
      " 61/100 [=================>............] - ETA: 25s - loss: 7.0201 - accuracy: 0.5231"
     ]
    }
   ],
   "source": [
    "dev_model.fit(img_train, validation_data=img_test, batch_size=32,steps_per_epoch=100, epochs=2)"
   ]
  },
  {
   "cell_type": "code",
   "execution_count": null,
   "id": "eada11f1-46f1-4abe-9253-b6678fcf9209",
   "metadata": {},
   "outputs": [],
   "source": [
    "plt.plot(dev_model.history.history[\"accuracy\"],c=\"r\")\n",
    "plt.plot(dev_model.history.history[\"val_accuracy\"],c=\"b\")"
   ]
  },
  {
   "cell_type": "code",
   "execution_count": null,
   "id": "05ceb057-0ec1-4adc-a81c-3fa402722441",
   "metadata": {},
   "outputs": [],
   "source": [
    "count=4\n",
    "for layer in base_model.layers:\n",
    "    if count==0:\n",
    "        break\n",
    "    layer.trainable=True\n",
    "    count-=1"
   ]
  },
  {
   "cell_type": "code",
   "execution_count": null,
   "id": "76a65be7-12de-4ed3-b97d-95c4a728af2f",
   "metadata": {},
   "outputs": [],
   "source": [
    "dev_model=tf.keras.models.Sequential(\n",
    "    [base_model,\n",
    "     tf.keras.layers.MaxPooling2D(),\n",
    "    tf.keras.layers.Flatten(),\n",
    "    tf.keras.layers.Dense(102,activation=\"softmax\")]\n",
    ")\n",
    "dev_model.compile(optimizer=tf.keras.optimizers.Adam(0.1),loss=\"categorical_crossentropy\",metrics=[\"accuracy\"])"
   ]
  },
  {
   "cell_type": "code",
   "execution_count": null,
   "id": "df025f78-aa9e-4ab9-97af-dc8e896bf7e8",
   "metadata": {},
   "outputs": [],
   "source": [
    "dev_model.fit(img_train,validation_data=img_test,batch_size=32,epochs=2)"
   ]
  },
  {
   "cell_type": "code",
   "execution_count": null,
   "id": "44f755ad-c78a-4a8f-8e33-600fcff90b2a",
   "metadata": {},
   "outputs": [],
   "source": [
    "plt.plot(dev_model.history.history[\"accuracy\"],c=\"r\")\n",
    "plt.plot(dev_model.history.history[\"val_accuracy\"],c=\"b\")"
   ]
  },
  {
   "cell_type": "code",
   "execution_count": null,
   "id": "bd6ece24-36ed-471e-998a-6a691a3c9e23",
   "metadata": {},
   "outputs": [],
   "source": []
  },
  {
   "cell_type": "code",
   "execution_count": null,
   "id": "e87af3e8-d5dc-49e5-86e2-eb0325395ea1",
   "metadata": {},
   "outputs": [],
   "source": []
  }
 ],
 "metadata": {
  "kernelspec": {
   "display_name": "Python 3 (ipykernel)",
   "language": "python",
   "name": "python3"
  },
  "language_info": {
   "codemirror_mode": {
    "name": "ipython",
    "version": 3
   },
   "file_extension": ".py",
   "mimetype": "text/x-python",
   "name": "python",
   "nbconvert_exporter": "python",
   "pygments_lexer": "ipython3",
   "version": "3.9.13"
  }
 },
 "nbformat": 4,
 "nbformat_minor": 5
}
