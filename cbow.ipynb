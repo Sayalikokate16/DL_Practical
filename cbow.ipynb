{
 "cells": [
  {
   "cell_type": "code",
   "execution_count": 83,
   "id": "dd550a60-1559-44eb-874e-ad398ed6f92f",
   "metadata": {
    "id": "dd550a60-1559-44eb-874e-ad398ed6f92f"
   },
   "outputs": [],
   "source": [
    "import numpy as np\n",
    "import keras.backend as K\n",
    "from keras.models import Sequential\n",
    "from keras.layers import Dense, Embedding, Lambda\n",
    "from keras import utils\n",
    "from tensorflow.keras.preprocessing import sequence\n",
    "from keras.preprocessing.text import Tokenizer\n",
    "import gensim"
   ]
  },
  {
   "cell_type": "code",
   "execution_count": 84,
   "id": "fd1fccb4-993e-46c0-afd2-65475f80eb65",
   "metadata": {
    "id": "fd1fccb4-993e-46c0-afd2-65475f80eb65",
    "outputId": "57e8c61a-3bda-4a00-b307-c102fc89d842"
   },
   "outputs": [
    {
     "data": {
      "text/plain": [
       "['The speed of transmission is an important point of difference between the two viruses. Influenza has a shorter median incubation period (the time from infection to appearance of symptoms) and a shorter serial interval (the time between successive cases) than COVID-19 virus. The serial interval for COVID-19 virus is estimated to be 5-6 days, while for influenza virus, the serial interval is 3 days. This means that influenza can spread faster than COVID-19. \\n',\n",
       " 'Further, transmission in the first 3-5 days of illness, or potentially pre-symptomatic transmission â€“transmission of the virus before the appearance of symptoms â€“ is a major driver of transmission for influenza. In contrast, while we are learning that there are people who can shed COVID-19 virus 24-48 hours prior to symptom onset, at present, this does not appear to be a major driver of transmission. \\n',\n",
       " 'The reproductive number â€“ the number of secondary infections generated from one infected individual â€“ is understood to be between 2 and 2.5 for COVID-19 virus, higher than for influenza. However, estimates for both COVID-19 and influenza viruses are very context and time-specific, making direct comparisons more difficult.  ']"
      ]
     },
     "execution_count": 84,
     "metadata": {},
     "output_type": "execute_result"
    }
   ],
   "source": [
    "data=open('corona.txt','r')\n",
    "data=[text for text in data if text.count(' ')>=2]\n",
    "data"
   ]
  },
  {
   "cell_type": "code",
   "execution_count": 85,
   "id": "ba4aeef9-13ab-4443-8e3a-0a547ad8f2f1",
   "metadata": {
    "id": "ba4aeef9-13ab-4443-8e3a-0a547ad8f2f1"
   },
   "outputs": [],
   "source": [
    "from keras.preprocessing.text import Tokenizer\n",
    "# from keras.preprocessing.text import Tokenizer\n",
    "# vectorize=preprocessing.text.Tokenizer()\n",
    "vectorize = Tokenizer()"
   ]
  },
  {
   "cell_type": "code",
   "execution_count": 86,
   "id": "b9ab6212-9f98-4b7f-8893-f61844ae43ac",
   "metadata": {
    "id": "b9ab6212-9f98-4b7f-8893-f61844ae43ac"
   },
   "outputs": [],
   "source": [
    "vectorize.fit_on_texts(data)"
   ]
  },
  {
   "cell_type": "code",
   "execution_count": 87,
   "id": "77d8abb8-2f1f-4db2-8bdb-1641883fb32d",
   "metadata": {
    "id": "77d8abb8-2f1f-4db2-8bdb-1641883fb32d",
    "outputId": "ef580270-5b1b-4ad5-aa73-1a154fee0bc3"
   },
   "outputs": [
    {
     "data": {
      "text/plain": [
       "['The speed of transmission is an important point of difference between the two viruses. Influenza has a shorter median incubation period (the time from infection to appearance of symptoms) and a shorter serial interval (the time between successive cases) than COVID-19 virus. The serial interval for COVID-19 virus is estimated to be 5-6 days, while for influenza virus, the serial interval is 3 days. This means that influenza can spread faster than COVID-19. \\n',\n",
       " 'Further, transmission in the first 3-5 days of illness, or potentially pre-symptomatic transmission â€“transmission of the virus before the appearance of symptoms â€“ is a major driver of transmission for influenza. In contrast, while we are learning that there are people who can shed COVID-19 virus 24-48 hours prior to symptom onset, at present, this does not appear to be a major driver of transmission. \\n',\n",
       " 'The reproductive number â€“ the number of secondary infections generated from one infected individual â€“ is understood to be between 2 and 2.5 for COVID-19 virus, higher than for influenza. However, estimates for both COVID-19 and influenza viruses are very context and time-specific, making direct comparisons more difficult.  ']"
      ]
     },
     "execution_count": 87,
     "metadata": {},
     "output_type": "execute_result"
    }
   ],
   "source": [
    "data"
   ]
  },
  {
   "cell_type": "code",
   "execution_count": 88,
   "id": "78f444ab-533a-4b10-bb1f-53a51070734e",
   "metadata": {
    "id": "78f444ab-533a-4b10-bb1f-53a51070734e"
   },
   "outputs": [],
   "source": [
    "data=vectorize.texts_to_sequences(data)"
   ]
  },
  {
   "cell_type": "code",
   "execution_count": 89,
   "id": "56ef1c4f-f8cb-4bc5-a664-26ec5808f41c",
   "metadata": {
    "id": "56ef1c4f-f8cb-4bc5-a664-26ec5808f41c",
    "outputId": "48eed393-555f-48c1-a74b-090f1127ae39"
   },
   "outputs": [
    {
     "data": {
      "text/plain": [
       "[[1,\n",
       "  38,\n",
       "  2,\n",
       "  8,\n",
       "  9,\n",
       "  39,\n",
       "  40,\n",
       "  41,\n",
       "  2,\n",
       "  42,\n",
       "  13,\n",
       "  1,\n",
       "  43,\n",
       "  23,\n",
       "  3,\n",
       "  44,\n",
       "  11,\n",
       "  24,\n",
       "  45,\n",
       "  46,\n",
       "  47,\n",
       "  1,\n",
       "  14,\n",
       "  25,\n",
       "  48,\n",
       "  10,\n",
       "  26,\n",
       "  2,\n",
       "  27,\n",
       "  12,\n",
       "  11,\n",
       "  24,\n",
       "  15,\n",
       "  16,\n",
       "  1,\n",
       "  14,\n",
       "  13,\n",
       "  49,\n",
       "  50,\n",
       "  17,\n",
       "  4,\n",
       "  5,\n",
       "  6,\n",
       "  1,\n",
       "  15,\n",
       "  16,\n",
       "  7,\n",
       "  4,\n",
       "  5,\n",
       "  6,\n",
       "  9,\n",
       "  51,\n",
       "  10,\n",
       "  18,\n",
       "  19,\n",
       "  52,\n",
       "  20,\n",
       "  28,\n",
       "  7,\n",
       "  3,\n",
       "  6,\n",
       "  1,\n",
       "  15,\n",
       "  16,\n",
       "  9,\n",
       "  29,\n",
       "  20,\n",
       "  30,\n",
       "  53,\n",
       "  31,\n",
       "  3,\n",
       "  32,\n",
       "  54,\n",
       "  55,\n",
       "  17,\n",
       "  4,\n",
       "  5],\n",
       " [56,\n",
       "  8,\n",
       "  33,\n",
       "  1,\n",
       "  57,\n",
       "  29,\n",
       "  19,\n",
       "  20,\n",
       "  2,\n",
       "  58,\n",
       "  59,\n",
       "  60,\n",
       "  61,\n",
       "  62,\n",
       "  8,\n",
       "  63,\n",
       "  2,\n",
       "  1,\n",
       "  6,\n",
       "  64,\n",
       "  1,\n",
       "  26,\n",
       "  2,\n",
       "  27,\n",
       "  21,\n",
       "  9,\n",
       "  11,\n",
       "  34,\n",
       "  35,\n",
       "  2,\n",
       "  8,\n",
       "  7,\n",
       "  3,\n",
       "  33,\n",
       "  65,\n",
       "  28,\n",
       "  66,\n",
       "  22,\n",
       "  67,\n",
       "  31,\n",
       "  68,\n",
       "  22,\n",
       "  69,\n",
       "  70,\n",
       "  32,\n",
       "  71,\n",
       "  4,\n",
       "  5,\n",
       "  6,\n",
       "  72,\n",
       "  73,\n",
       "  74,\n",
       "  75,\n",
       "  10,\n",
       "  76,\n",
       "  77,\n",
       "  78,\n",
       "  79,\n",
       "  30,\n",
       "  80,\n",
       "  81,\n",
       "  82,\n",
       "  10,\n",
       "  18,\n",
       "  11,\n",
       "  34,\n",
       "  35,\n",
       "  2,\n",
       "  8],\n",
       " [1,\n",
       "  83,\n",
       "  36,\n",
       "  21,\n",
       "  1,\n",
       "  36,\n",
       "  2,\n",
       "  84,\n",
       "  85,\n",
       "  86,\n",
       "  25,\n",
       "  87,\n",
       "  88,\n",
       "  89,\n",
       "  21,\n",
       "  9,\n",
       "  90,\n",
       "  10,\n",
       "  18,\n",
       "  13,\n",
       "  37,\n",
       "  12,\n",
       "  37,\n",
       "  19,\n",
       "  7,\n",
       "  4,\n",
       "  5,\n",
       "  6,\n",
       "  91,\n",
       "  17,\n",
       "  7,\n",
       "  3,\n",
       "  92,\n",
       "  93,\n",
       "  7,\n",
       "  94,\n",
       "  4,\n",
       "  5,\n",
       "  12,\n",
       "  3,\n",
       "  23,\n",
       "  22,\n",
       "  95,\n",
       "  96,\n",
       "  12,\n",
       "  14,\n",
       "  97,\n",
       "  98,\n",
       "  99,\n",
       "  100,\n",
       "  101,\n",
       "  102]]"
      ]
     },
     "execution_count": 89,
     "metadata": {},
     "output_type": "execute_result"
    }
   ],
   "source": [
    "data"
   ]
  },
  {
   "cell_type": "code",
   "execution_count": 90,
   "id": "f1fcc4a2-0c88-4f1d-be69-52cc7c9ca4e8",
   "metadata": {
    "id": "f1fcc4a2-0c88-4f1d-be69-52cc7c9ca4e8"
   },
   "outputs": [],
   "source": [
    "total_vocab = sum(len(s) for s in data)\n",
    "word_count = len(vectorize.word_index) + 1\n",
    "window_size = 2"
   ]
  },
  {
   "cell_type": "code",
   "execution_count": 91,
   "id": "3f9e3d92-5e22-474c-86df-64b8f117ff83",
   "metadata": {
    "id": "3f9e3d92-5e22-474c-86df-64b8f117ff83"
   },
   "outputs": [],
   "source": [
    "def cbow_model(data, window_size, total_vocab):\n",
    "    total_length = window_size*2\n",
    "    for text in data:\n",
    "        text_len = len(text)\n",
    "        for idx, word in enumerate(text):\n",
    "            context_word = []\n",
    "            target   = []\n",
    "            begin = idx - window_size\n",
    "            end = idx + window_size + 1\n",
    "            context_word.append([text[i] for i in range(begin, end) if 0 <= i < text_len and i != idx])\n",
    "            target.append(word)\n",
    "            \n",
    "            contextual = sequence.pad_sequences(context_word,maxlen=total_length)\n",
    "            final_target =utils.to_categorical(target, total_vocab)\n",
    "            yield(contextual, final_target)"
   ]
  },
  {
   "cell_type": "code",
   "execution_count": null,
   "id": "a1660096-eebe-4ec9-a50b-31a85e091c69",
   "metadata": {
    "id": "a1660096-eebe-4ec9-a50b-31a85e091c69",
    "outputId": "859b3717-2ecc-4f7e-ae6e-31a9b11bcb06"
   },
   "outputs": [
    {
     "name": "stdout",
     "output_type": "stream",
     "text": [
      "0 1041.4596967697144\n"
     ]
    }
   ],
   "source": [
    "model = Sequential()\n",
    "model.add(Embedding(input_dim=total_vocab, output_dim=100, input_length=window_size*2))\n",
    "model.add(Lambda(lambda x: K.mean(x, axis=1), output_shape=(100,)))\n",
    "model.add(Dense(total_vocab, activation='softmax'))\n",
    "model.compile(loss='categorical_crossentropy', optimizer='adam')\n",
    "for i in range(10):\n",
    "    cost = 0\n",
    "    for x, y in cbow_model(data, window_size, total_vocab):\n",
    "        cost += model.train_on_batch(x, y)\n",
    "    print(i, cost)"
   ]
  },
  {
   "cell_type": "code",
   "execution_count": null,
   "id": "8fb2e274-30ca-4ef3-abe4-d4742f65d23b",
   "metadata": {
    "id": "8fb2e274-30ca-4ef3-abe4-d4742f65d23b",
    "outputId": "d14f7ea1-0587-47f5-ce82-bf7df3dd4199"
   },
   "outputs": [],
   "source": [
    "dims=100\n",
    "vect_file=open('corona11.txt','w')\n",
    "vect_file.write('{} {}\\n'.format(total_vocab,dims))\n"
   ]
  },
  {
   "cell_type": "code",
   "execution_count": null,
   "id": "24a7524e-543f-4b8e-83fe-933018fd787c",
   "metadata": {
    "id": "24a7524e-543f-4b8e-83fe-933018fd787c"
   },
   "outputs": [],
   "source": [
    "weights=model.get_weights()[0]\n",
    "for text,i in vectorize.word_index.items():\n",
    "    final=' '.join(map(str,list(weights[i,:])))\n",
    "    vect_file.write('{} {}\\n'.format(text,final))\n",
    "vect_file.close()"
   ]
  },
  {
   "cell_type": "code",
   "execution_count": null,
   "id": "195c4cfb-9fd3-4600-8846-f2df2b91a67e",
   "metadata": {
    "id": "195c4cfb-9fd3-4600-8846-f2df2b91a67e",
    "outputId": "3fbdcdb7-8c2b-4210-8abe-b9eabc229956"
   },
   "outputs": [],
   "source": [
    "# cbow_output=gensim.models.KeyedVectors.load_word2vec_format('corona.txt',binary=False,limit=90)\n",
    "# cbow_output.most_similar(positive=['virus'])\n",
    "# cbow_output = gensim.models.KeyedVectors.load_word2vec_format('corona11.txt', binary=False, limit=90, encoding='utf-8')\n",
    "# cbow_output.most_similar(positive=['virus'])\n",
    "\n",
    "cbow_output = gensim.models.KeyedVectors.load_word2vec_format('corona11.txt', binary=False, limit=90, encoding='latin-1')\n",
    "cbow_output.most_similar(positive=['virus'])"
   ]
  },
  {
   "cell_type": "code",
   "execution_count": null,
   "id": "5652d038-963d-4a7e-b9b6-536989e538e7",
   "metadata": {
    "id": "5652d038-963d-4a7e-b9b6-536989e538e7"
   },
   "outputs": [],
   "source": []
  },
  {
   "cell_type": "code",
   "execution_count": null,
   "id": "9208ed2c",
   "metadata": {},
   "outputs": [],
   "source": []
  }
 ],
 "metadata": {
  "colab": {
   "provenance": []
  },
  "kernelspec": {
   "display_name": "Python 3 (ipykernel)",
   "language": "python",
   "name": "python3"
  },
  "language_info": {
   "codemirror_mode": {
    "name": "ipython",
    "version": 3
   },
   "file_extension": ".py",
   "mimetype": "text/x-python",
   "name": "python",
   "nbconvert_exporter": "python",
   "pygments_lexer": "ipython3",
   "version": "3.9.13"
  }
 },
 "nbformat": 4,
 "nbformat_minor": 5
}
